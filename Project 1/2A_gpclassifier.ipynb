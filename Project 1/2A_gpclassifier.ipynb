{
 "cells": [
  {
   "cell_type": "code",
   "execution_count": null,
   "id": "67ce2e34-361f-4f3c-be1c-ee0ec151ae67",
   "metadata": {},
   "outputs": [],
   "source": [
    "\"\"\"\n",
    "=====================================================\n",
    "Gaussian process classification (GPC) \n",
    "=====================================================\n",
    "\n",
    "\"\"\"\n",
    "\n",
    "import numpy as np\n",
    "import matplotlib.pyplot as plt\n",
    "from sklearn import datasets\n",
    "from sklearn.utils import shuffle\n",
    "from sklearn.gaussian_process import GaussianProcessClassifier\n",
    "from sklearn.gaussian_process.kernels import RBF\n",
    "from sklearn.gaussian_process.kernels import DotProduct\n",
    "\n",
    "#choose a seed\n",
    "seed = XXXX\n",
    "np.random.seed(seed)\n",
    "\n",
    "# import some data to play with\n",
    "digits = datasets.load_digits()\n",
    "\n",
    "X = digits.data\n",
    "y = np.array(digits.target, dtype = int)\n",
    "X,y = shuffle(X,y)\n",
    "N,d = X.shape\n",
    "\n",
    "N = np.int(600)\n",
    "Ntrain = np.int(500)\n",
    "Ntest = np.int(100)\n",
    "\n",
    "\n",
    "Xtrain = X[0:Ntrain-1,:]\n",
    "ytrain = y[0:Ntrain-1]\n",
    "Xtest = X[Ntrain:N,:]\n",
    "ytest = y[Ntrain:N]\n",
    "\n",
    "\n",
    "kernel = 1.0 * RBF([1.0]) # isotropic kernel\n",
    "#kernel = DotProduct(1.0) \n",
    "gpc_rbf = GaussianProcessClassifier(kernel=kernel).fit(Xtrain, ytrain)\n",
    "yp_train = gpc_rbf.predict(Xtrain)\n",
    "train_error_rate = np.mean(np.not_equal(yp_train,ytrain))\n",
    "yp_test = gpc_rbf.predict(Xtest)\n",
    "test_error_rate = np.mean(np.not_equal(yp_test,ytest))\n",
    "#print('Training error rate')\n",
    "#print(train_error_rate)\n",
    "print('Test error rate')\n",
    "print(test_error_rate)\n",
    "\n",
    "\n"
   ]
  }
 ],
 "metadata": {
  "kernelspec": {
   "display_name": "Python 3",
   "language": "python",
   "name": "python3"
  },
  "language_info": {
   "codemirror_mode": {
    "name": "ipython",
    "version": 3
   },
   "file_extension": ".py",
   "mimetype": "text/x-python",
   "name": "python",
   "nbconvert_exporter": "python",
   "pygments_lexer": "ipython3",
   "version": "3.8.8"
  }
 },
 "nbformat": 4,
 "nbformat_minor": 5
}
