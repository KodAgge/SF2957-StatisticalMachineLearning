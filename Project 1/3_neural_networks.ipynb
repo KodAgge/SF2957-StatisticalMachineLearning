{
 "cells": [
  {
   "cell_type": "markdown",
   "metadata": {},
   "source": [
    "# Neural networks\n",
    "\n",
    "In this notebook we will train a convolutional neural network on the _mnist_ dataset."
   ]
  },
  {
   "cell_type": "markdown",
   "metadata": {},
   "source": [
    "### Import packages"
   ]
  },
  {
   "cell_type": "code",
   "execution_count": 2,
   "metadata": {},
   "outputs": [],
   "source": [
    "import numpy as np\n",
    "import matplotlib.pyplot as plt\n",
    "from sklearn import datasets\n",
    "from sklearn.utils import shuffle\n",
    "from sklearn.gaussian_process import GaussianProcessRegressor\n",
    "from sklearn.gaussian_process.kernels import RBF\n",
    "from sklearn.gaussian_process.kernels import DotProduct"
   ]
  },
  {
   "cell_type": "code",
   "execution_count": 3,
   "metadata": {},
   "outputs": [],
   "source": [
    "import torch\n",
    "import torch.nn as nn\n",
    "import torch.nn.functional as F\n",
    "from torch.nn import Linear, ReLU, CrossEntropyLoss\n",
    "from torch.optim import Adam, SGD"
   ]
  },
  {
   "cell_type": "markdown",
   "metadata": {},
   "source": [
    "### Load the data"
   ]
  },
  {
   "cell_type": "code",
   "execution_count": 4,
   "metadata": {},
   "outputs": [],
   "source": [
    "digits = datasets.load_digits()"
   ]
  },
  {
   "cell_type": "markdown",
   "metadata": {},
   "source": [
    "### Define some parameters"
   ]
  },
  {
   "cell_type": "markdown",
   "metadata": {},
   "source": [
    "Save the data into loaders, which will be used during training."
   ]
  },
  {
   "cell_type": "code",
   "execution_count": 128,
   "metadata": {},
   "outputs": [],
   "source": [
    "from torch.utils.data import TensorDataset, DataLoader\n",
    "\n",
    "def getLoaders(digits, batchsize = 16, Ntrain = 1697):\n",
    "    # extract X and y\n",
    "    X = digits.data\n",
    "    y = np.array(digits.target, dtype = int)\n",
    "\n",
    "    # choose size of data\n",
    "    N,d = X.shape\n",
    "    X = X.reshape(N, 8, 8) # change back to images\n",
    "    Ntest = 100\n",
    "    # Ntrain = 1697\n",
    "\n",
    "    # choose train data\n",
    "    X_train = X[0:Ntrain,:]\n",
    "    y_train = y[0:Ntrain]\n",
    "\n",
    "    # choose test data\n",
    "    X_test = X[Ntrain:Ntrain+Ntest,:]\n",
    "    y_test = y[Ntrain:Ntrain+Ntest]\n",
    "\n",
    "    X_train, X_test = torch.Tensor(X_train).unsqueeze(1), torch.Tensor(X_test).unsqueeze(1)\n",
    "    y_train, y_test = torch.Tensor(y_train), torch.Tensor(y_test)\n",
    "\n",
    "    train_set = TensorDataset(X_train, y_train.long())\n",
    "    test_set = TensorDataset(X_test, y_test.long())\n",
    "\n",
    "    trainLoader = DataLoader(train_set, batch_size=batchsize)\n",
    "    testLoader = DataLoader(test_set, batch_size=batchsize)\n",
    "\n",
    "    return trainLoader, testLoader"
   ]
  },
  {
   "cell_type": "code",
   "execution_count": 153,
   "metadata": {},
   "outputs": [],
   "source": [
    "# code used for checking accuracy\n",
    "\n",
    "def check_accuracy(loader, model):\n",
    "    num_correct = 0\n",
    "    num_samples = 0\n",
    "    model.eval()\n",
    "    \n",
    "    with torch.no_grad():\n",
    "        for x, y in loader:\n",
    "            y = y.view(-1)\n",
    "            \n",
    "            scores = model(x)\n",
    "            _, predictions = scores.max(1)\n",
    "\n",
    "            num_correct += (predictions == y).sum()\n",
    "            num_samples += predictions.size(0)\n",
    "    \n",
    "    model.train()\n",
    "\n",
    "    return float(num_correct)/float(num_samples)*100\n",
    "\n",
    "# code for checking loss\n",
    "\n",
    "def check_loss(loader, model, criterion):\n",
    "    running_loss = 0.0\n",
    "\n",
    "    with torch.no_grad():\n",
    "        for x, y in loader:\n",
    "            outputs = model(x)\n",
    "\n",
    "            running_loss += criterion(outputs, y.view(-1))\n",
    "\n",
    "    model.train()\n",
    "\n",
    "    return running_loss / (loader.batch_size * len(loader))\n"
   ]
  },
  {
   "cell_type": "markdown",
   "metadata": {},
   "source": [
    "Define the mini-batch gradient descent algorithm"
   ]
  },
  {
   "cell_type": "code",
   "execution_count": 7,
   "metadata": {},
   "outputs": [],
   "source": [
    "def MGD(model, train_dataloader, test_dataloader, optimizer, criterion, n_epochs, printing = True):\n",
    "\n",
    "    model.train()\n",
    "\n",
    "    loss_train, loss_test = [], []\n",
    "    accuracy_train, accuracy_test = [], []\n",
    "\n",
    "    for epoch in range(n_epochs):  # loop over the dataset multiple times\n",
    "\n",
    "        for i, (X_train_batch, Y_train_batch) in enumerate(train_dataloader, 0):\n",
    "\n",
    "            outputs = None\n",
    "            \n",
    "            # forward-pass\n",
    "            outputs = model(X_train_batch)\n",
    "\n",
    "            # backwards pass + gradient step\n",
    "            loss = criterion(outputs, Y_train_batch)\n",
    "            \n",
    "            optimizer.zero_grad() # zero the parameter gradients\n",
    "            loss.backward() #retain_graph=True)\n",
    "            \n",
    "            optimizer.step()\n",
    "\n",
    "            if i == 0 and epoch == 0:\n",
    "                smooth_loss = loss.item()\n",
    "            else:\n",
    "                smooth_loss = 0.99 * smooth_loss + 0.01 * loss.item()\n",
    "\n",
    "        if printing:\n",
    "            print(\"Epoch\", epoch + 1, \"comlete\")\n",
    "            print(\"The smooth loss is\", smooth_loss, \"\\n\")\n",
    "\n",
    "        loss_train.append(check_loss(train_dataloader, model, criterion))\n",
    "        loss_test.append(check_loss(test_dataloader, model, criterion))\n",
    "\n",
    "        accuracy_train.append(check_accuracy(train_dataloader, model))\n",
    "        accuracy_test.append(check_accuracy(test_dataloader, model))\n",
    "\n",
    "    return model, loss_train, loss_test, accuracy_train, accuracy_test\n",
    "        "
   ]
  },
  {
   "cell_type": "markdown",
   "metadata": {},
   "source": [
    "### Plot functions"
   ]
  },
  {
   "cell_type": "code",
   "execution_count": 21,
   "metadata": {},
   "outputs": [],
   "source": [
    "def plotLoss(loss_train, loss_test):\n",
    "    plt.plot(loss_train, label = \"Train loss\")\n",
    "    plt.plot(loss_test, label = \"Test loss\")\n",
    "\n",
    "    plt.xlabel(\"Epoch\")\n",
    "    plt.ylabel(\"Loss\")\n",
    "    plt.title(\"Loss plot\")\n",
    "    plt.legend()\n",
    "    plt.show()\n",
    "\n",
    "def plotAccuracy(accuracy_train, accuracy_test):\n",
    "    plt.plot(accuracy_train, label = \"Train accuracy\")\n",
    "    plt.plot(accuracy_test, label = \"Test accuracy\")\n",
    "\n",
    "    plt.xlabel(\"Epoch\")\n",
    "    plt.ylabel(\"Accuracy\")\n",
    "    plt.title(\"Accuracy plot\")\n",
    "    plt.legend()\n",
    "    plt.show()\n",
    "\n",
    "def count_parameters(model):\n",
    "    return sum(p.numel() for p in model.parameters() if p.requires_grad)"
   ]
  },
  {
   "cell_type": "markdown",
   "metadata": {},
   "source": [
    "### Define the simple NN"
   ]
  },
  {
   "cell_type": "code",
   "execution_count": 40,
   "metadata": {},
   "outputs": [],
   "source": [
    "class NetSimple(nn.Module):\n",
    "\n",
    "    def __init__(self):\n",
    "        super().__init__()\n",
    "\n",
    "        self.conv1 = nn.Sequential(         \n",
    "            nn.Conv2d(\n",
    "                in_channels=1,              \n",
    "                out_channels=16,            \n",
    "                kernel_size=3,              \n",
    "                stride=1,                   \n",
    "                padding=1,                  \n",
    "            ),                              \n",
    "            nn.ReLU(),    \n",
    "        )\n",
    "\n",
    "        self.fc = nn.Linear(1024, 10) #  check this\n",
    "\n",
    "    def forward(self, x):\n",
    "        x = self.conv1(x)\n",
    "\n",
    "        x = self.fc(torch.flatten(x, 1))\n",
    "\n",
    "        return x"
   ]
  },
  {
   "cell_type": "markdown",
   "metadata": {},
   "source": [
    "# Training the network"
   ]
  },
  {
   "cell_type": "code",
   "execution_count": 41,
   "metadata": {},
   "outputs": [
    {
     "name": "stdout",
     "output_type": "stream",
     "text": [
      "Epoch 1 comlete\n",
      "The smooth loss is 1.5987025920273812 \n",
      "\n",
      "Epoch 2 comlete\n",
      "The smooth loss is 0.5962449155869183 \n",
      "\n",
      "Epoch 3 comlete\n",
      "The smooth loss is 0.23234894216181387 \n",
      "\n",
      "Epoch 4 comlete\n",
      "The smooth loss is 0.1048148479636325 \n",
      "\n",
      "Epoch 5 comlete\n",
      "The smooth loss is 0.05227883358486604 \n",
      "\n",
      "Epoch 6 comlete\n",
      "The smooth loss is 0.03066889247925177 \n",
      "\n",
      "Epoch 7 comlete\n",
      "The smooth loss is 0.018238185977852095 \n",
      "\n",
      "Epoch 8 comlete\n",
      "The smooth loss is 0.013913443700380602 \n",
      "\n",
      "Epoch 9 comlete\n",
      "The smooth loss is 0.0064005666139004365 \n",
      "\n",
      "Epoch 10 comlete\n",
      "The smooth loss is 0.002660869422856945 \n",
      "\n",
      "Epoch 11 comlete\n",
      "The smooth loss is 0.0010267228210912266 \n",
      "\n",
      "Epoch 12 comlete\n",
      "The smooth loss is 0.0004394298645820878 \n",
      "\n",
      "Epoch 13 comlete\n",
      "The smooth loss is 0.0002254531807303491 \n",
      "\n",
      "Epoch 14 comlete\n",
      "The smooth loss is 0.00014243553078408067 \n",
      "\n",
      "Epoch 15 comlete\n",
      "The smooth loss is 0.00010618111606042687 \n",
      "\n",
      "Epoch 16 comlete\n",
      "The smooth loss is 8.740966213962835e-05 \n",
      "\n",
      "Epoch 17 comlete\n",
      "The smooth loss is 7.567573888811505e-05 \n",
      "\n",
      "Epoch 18 comlete\n",
      "The smooth loss is 6.71636115890878e-05 \n",
      "\n",
      "Epoch 19 comlete\n",
      "The smooth loss is 6.0527381990818613e-05 \n",
      "\n",
      "Epoch 20 comlete\n",
      "The smooth loss is 5.500942101588274e-05 \n",
      "\n",
      "Epoch 21 comlete\n",
      "The smooth loss is 5.0259099451096285e-05 \n",
      "\n",
      "Epoch 22 comlete\n",
      "The smooth loss is 4.610079135550087e-05 \n",
      "\n",
      "Epoch 23 comlete\n",
      "The smooth loss is 4.241577498317417e-05 \n",
      "\n",
      "Epoch 24 comlete\n",
      "The smooth loss is 3.914164305853498e-05 \n",
      "\n",
      "Epoch 25 comlete\n",
      "The smooth loss is 3.61980968592913e-05 \n",
      "\n",
      "Epoch 26 comlete\n",
      "The smooth loss is 3.3534930569857636e-05 \n",
      "\n",
      "Epoch 27 comlete\n",
      "The smooth loss is 3.11435844898451e-05 \n",
      "\n",
      "Epoch 28 comlete\n",
      "The smooth loss is 2.8990270249771036e-05 \n",
      "\n",
      "Epoch 29 comlete\n",
      "The smooth loss is 2.702961521128821e-05 \n",
      "\n",
      "Epoch 30 comlete\n",
      "The smooth loss is 2.524412714882763e-05 \n",
      "\n"
     ]
    }
   ],
   "source": [
    "trainLoader, testLoader = getLoaders(digits)\n",
    "\n",
    "model = NetSimple()\n",
    "\n",
    "optimizer = Adam(model.parameters(), lr = 0.005)\n",
    "\n",
    "criterion = CrossEntropyLoss()\n",
    "\n",
    "n_epochs = 30\n",
    "\n",
    "trained_model, loss_train, loss_test, accuracy_train, accuracy_test = MGD(model, trainLoader, testLoader, optimizer, criterion, n_epochs, True)"
   ]
  },
  {
   "cell_type": "code",
   "execution_count": 42,
   "metadata": {},
   "outputs": [
    {
     "data": {
      "image/png": "[encoded data removed]",
      "text/plain": [
       "<Figure size 432x288 with 1 Axes>"
      ]
     },
     "metadata": {
      "needs_background": "light"
     },
     "output_type": "display_data"
    },
    {
     "data": {
      "image/png": "[encoded data removed]",
      "text/plain": [
       "<Figure size 432x288 with 1 Axes>"
      ]
     },
     "metadata": {
      "needs_background": "light"
     },
     "output_type": "display_data"
    }
   ],
   "source": [
    "plotLoss(loss_train, loss_test)\n",
    "plotAccuracy(accuracy_train, accuracy_test)"
   ]
  },
  {
   "cell_type": "code",
   "execution_count": 43,
   "metadata": {},
   "outputs": [
    {
     "data": {
      "text/plain": [
       "97.0"
      ]
     },
     "execution_count": 43,
     "metadata": {},
     "output_type": "execute_result"
    }
   ],
   "source": [
    "check_accuracy(testLoader, trained_model)"
   ]
  },
  {
   "cell_type": "code",
   "execution_count": 44,
   "metadata": {},
   "outputs": [
    {
     "name": "stdout",
     "output_type": "stream",
     "text": [
      "tensor([0, 9, 5, 5, 6, 5, 0, 9, 8, 9, 8, 4, 1, 7, 7, 3])\n",
      "tensor([0, 9, 5, 5, 6, 5, 0, 9, 8, 9, 8, 4, 1, 7, 7, 3])\n"
     ]
    }
   ],
   "source": [
    "x, y = next(iter(testLoader))\n",
    "y_pred = torch.argmax(trained_model(x), dim = 1)\n",
    "\n",
    "print(y)\n",
    "print(y_pred)"
   ]
  },
  {
   "cell_type": "markdown",
   "metadata": {},
   "source": [
    "With only one convolutional layer, the model achieves 97% accuracy on the test set and 100% on the training set!"
   ]
  },
  {
   "cell_type": "code",
   "execution_count": 47,
   "metadata": {},
   "outputs": [
    {
     "data": {
      "text/plain": [
       "10410"
      ]
     },
     "execution_count": 47,
     "metadata": {},
     "output_type": "execute_result"
    }
   ],
   "source": [
    "count_parameters(trained_model)"
   ]
  },
  {
   "cell_type": "markdown",
   "metadata": {},
   "source": [
    "From the above code we see that we have 10410 parameters for the simple network. Most of these come from the fully connected layer at the end. By reducing the number of in_parameters to that layers we should be able to reduce the number of trainable parameters."
   ]
  },
  {
   "cell_type": "markdown",
   "metadata": {},
   "source": [
    "# A more complicated network"
   ]
  },
  {
   "cell_type": "code",
   "execution_count": 126,
   "metadata": {},
   "outputs": [],
   "source": [
    "class Net(nn.Module):\n",
    "\n",
    "    def __init__(self):\n",
    "        super().__init__()\n",
    "\n",
    "        self.conv1 = nn.Sequential(         \n",
    "            nn.Conv2d(\n",
    "                in_channels=1,              \n",
    "                out_channels=64,            \n",
    "                kernel_size=2,              \n",
    "                stride=1,                   \n",
    "                padding=1,                  \n",
    "            ),                           \n",
    "            nn.ReLU(),    \n",
    "            nn.Dropout(0.2)\n",
    "        )\n",
    "\n",
    "        self.conv2 = nn.Sequential(         \n",
    "            nn.Conv2d(\n",
    "                in_channels=64,              \n",
    "                out_channels=32,            \n",
    "                kernel_size=2,              \n",
    "                stride=1,                   \n",
    "                padding=1,                  \n",
    "            ), \n",
    "            nn.MaxPool2d(2),                             \n",
    "            nn.ReLU(),    \n",
    "            nn.Dropout(0.2)\n",
    "        )\n",
    "\n",
    "\n",
    "        self.conv3 = nn.Sequential(         \n",
    "            nn.Conv2d(\n",
    "                in_channels=32,              \n",
    "                out_channels=16,            \n",
    "                kernel_size=2,              \n",
    "                stride=1,                   \n",
    "                padding=1, \n",
    "            ),     \n",
    "            nn.ReLU(),\n",
    "            nn.Dropout(0.2)                \n",
    "        )\n",
    "\n",
    "        self.conv4 = nn.Sequential(         \n",
    "            nn.Conv2d(\n",
    "                in_channels=16,              \n",
    "                out_channels=16,            \n",
    "                kernel_size=2,              \n",
    "                stride=1,                   \n",
    "                padding=1, \n",
    "            ),     \n",
    "            nn.ReLU(),\n",
    "            nn.Dropout(0.1)                \n",
    "        )\n",
    "\n",
    "        self.fc = nn.Linear(784, 10) #  check this\n",
    "\n",
    "    def forward(self, x):\n",
    "        x = self.conv1(x)\n",
    "        x = self.conv2(x)\n",
    "        x = self.conv3(x)\n",
    "        x = self.conv4(x)\n",
    "\n",
    "        x = self.fc(torch.flatten(x, 1))\n",
    "\n",
    "        return x"
   ]
  },
  {
   "cell_type": "code",
   "execution_count": 124,
   "metadata": {},
   "outputs": [],
   "source": [
    "model = Net()\n",
    "\n",
    "optimizer = Adam(model.parameters(), lr = 0.0002)\n",
    "\n",
    "criterion = CrossEntropyLoss()\n",
    "\n",
    "n_epochs = 100\n",
    "\n",
    "trained_model, loss_train, loss_test, accuracy_train, accuracy_test = MGD(model, trainLoader, testLoader, optimizer, criterion, n_epochs, True)"
   ]
  },
  {
   "cell_type": "code",
   "execution_count": 120,
   "metadata": {},
   "outputs": [
    {
     "data": {
      "image/png": "[encoded data removed]",
      "text/plain": [
       "<Figure size 432x288 with 1 Axes>"
      ]
     },
     "metadata": {
      "needs_background": "light"
     },
     "output_type": "display_data"
    },
    {
     "data": {
      "image/png": "[encoded data removed]",
      "text/plain": [
       "<Figure size 432x288 with 1 Axes>"
      ]
     },
     "metadata": {
      "needs_background": "light"
     },
     "output_type": "display_data"
    }
   ],
   "source": [
    "plotLoss(loss_train, loss_test)\n",
    "plotAccuracy(accuracy_train, accuracy_test)"
   ]
  },
  {
   "cell_type": "code",
   "execution_count": 121,
   "metadata": {},
   "outputs": [
    {
     "data": {
      "text/plain": [
       "98.0"
      ]
     },
     "execution_count": 121,
     "metadata": {},
     "output_type": "execute_result"
    }
   ],
   "source": [
    "check_accuracy(testLoader, trained_model)"
   ]
  },
  {
   "cell_type": "code",
   "execution_count": 127,
   "metadata": {},
   "outputs": [
    {
     "data": {
      "text/plain": [
       "19498"
      ]
     },
     "execution_count": 127,
     "metadata": {},
     "output_type": "execute_result"
    }
   ],
   "source": [
    "count_parameters(model)"
   ]
  },
  {
   "cell_type": "markdown",
   "metadata": {},
   "source": [
    "### Testing different sizes of the trainin data"
   ]
  },
  {
   "cell_type": "code",
   "execution_count": 154,
   "metadata": {},
   "outputs": [],
   "source": [
    "data_sizes = [100, 200, 350, 500, 750, 1000, 1250, 1500]\n",
    "\n",
    "accuracies_train, accuracies_test = [], []\n",
    "losses_train, losses_test = [], []\n",
    "\n",
    "\n",
    "for n_train in data_sizes:\n",
    "\n",
    "    trainLoader, testLoader = getLoaders(digits, Ntrain=n_train)\n",
    "\n",
    "    model = Net()\n",
    "\n",
    "    optimizer = Adam(model.parameters(), lr = 0.002)\n",
    "\n",
    "    criterion = CrossEntropyLoss()\n",
    "\n",
    "    n_epochs = 50\n",
    "\n",
    "    _, loss_train, loss_test, accuracy_train, accuracy_test = MGD(model, trainLoader, testLoader, optimizer, criterion, n_epochs, False)\n",
    "\n",
    "    accuracies_train.append(accuracy_train[-1])\n",
    "    accuracies_test.append(accuracy_test[-1])\n",
    "\n",
    "    losses_train.append(loss_train[-1])\n",
    "    losses_test.append(loss_test[-1])\n"
   ]
  },
  {
   "cell_type": "code",
   "execution_count": 157,
   "metadata": {},
   "outputs": [
    {
     "data": {
      "image/png": "[encoded data removed]",
      "text/plain": [
       "<Figure size 432x288 with 1 Axes>"
      ]
     },
     "metadata": {
      "needs_background": "light"
     },
     "output_type": "display_data"
    }
   ],
   "source": [
    "plt.plot(data_sizes, losses_train, '-x', label = \"Train average loss\")\n",
    "plt.plot(data_sizes, losses_test, '-x', label = \"Test  average loss\")\n",
    "\n",
    "plt.xlabel(\"Number of samples in train data\")\n",
    "plt.ylabel(\"Average loss\")\n",
    "plt.title(\"Loss plot\")\n",
    "plt.legend()\n",
    "plt.show()\n"
   ]
  },
  {
   "cell_type": "code",
   "execution_count": 156,
   "metadata": {},
   "outputs": [
    {
     "data": {
      "image/png": "[encoded data removed]",
      "text/plain": [
       "<Figure size 432x288 with 1 Axes>"
      ]
     },
     "metadata": {
      "needs_background": "light"
     },
     "output_type": "display_data"
    }
   ],
   "source": [
    "plt.plot(data_sizes, accuracies_train, '-x', label = \"Train accuracy\")\n",
    "plt.plot(data_sizes, accuracies_test, '-x', label = \"Test accuracy\")\n",
    "\n",
    "plt.xlabel(\"Number of samples in train data\")\n",
    "plt.ylabel(\"Accuracy\")\n",
    "plt.title(\"Accuracy plot\")\n",
    "plt.legend()\n",
    "plt.show()"
   ]
  }
 ],
 "metadata": {
  "interpreter": {
   "hash": "9386f0cef3f7e847ba4ef8cad0c29e3ff984e6eb5154ed6dc75c3de9b359a7f7"
  },
  "kernelspec": {
   "display_name": "Python 3.9.6 64-bit",
   "language": "python",
   "name": "python3"
  },
  "language_info": {
   "codemirror_mode": {
    "name": "ipython",
    "version": 3
   },
   "file_extension": ".py",
   "mimetype": "text/x-python",
   "name": "python",
   "nbconvert_exporter": "python",
   "pygments_lexer": "ipython3",
   "version": "3.9.6"
  },
  "orig_nbformat": 4
 },
 "nbformat": 4,
 "nbformat_minor": 2
}
