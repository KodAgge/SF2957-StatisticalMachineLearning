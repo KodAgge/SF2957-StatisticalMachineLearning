{
 "cells": [
  {
   "cell_type": "markdown",
   "metadata": {},
   "source": [
    "Packages"
   ]
  },
  {
   "cell_type": "code",
   "execution_count": 2,
   "metadata": {},
   "outputs": [],
   "source": [
    "import numpy as np\n",
    "import matplotlib.pyplot as plt\n",
    "from sklearn import datasets\n",
    "from sklearn.utils import shuffle\n",
    "from sklearn.gaussian_process import GaussianProcessRegressor\n",
    "from sklearn.gaussian_process.kernels import RBF\n",
    "from sklearn.gaussian_process.kernels import DotProduct\n",
    "from sklearn.preprocessing import OneHotEncoder"
   ]
  },
  {
   "cell_type": "markdown",
   "metadata": {},
   "source": [
    "Import data"
   ]
  },
  {
   "cell_type": "code",
   "execution_count": 3,
   "metadata": {},
   "outputs": [],
   "source": [
    "#choose a seed\n",
    "seed = 1\n",
    "np.random.seed(seed)\n",
    "# Load data into train set and test set\n",
    "digits = datasets.load_digits()\n",
    "X = digits.data\n",
    "y = np.array(digits.target, dtype = int)\n"
   ]
  },
  {
   "cell_type": "markdown",
   "metadata": {},
   "source": [
    "One hot encode"
   ]
  },
  {
   "cell_type": "code",
   "execution_count": 16,
   "metadata": {},
   "outputs": [],
   "source": [
    "enc = OneHotEncoder()\n",
    "\n",
    "y = enc.fit_transform(y.reshape(-1, 1))"
   ]
  },
  {
   "cell_type": "code",
   "execution_count": 18,
   "metadata": {},
   "outputs": [],
   "source": [
    "X,y = shuffle(X,y)\n",
    "N,d = X.shape\n",
    "Ntest = 100\n",
    "Ntrain = 1697\n",
    "Xtrain = X[0:Ntrain,:]\n",
    "ytrain = y[0:Ntrain,:]\n",
    "Xtest = X[Ntrain:N,:]\n",
    "ytest = y[Ntrain:N,:]"
   ]
  },
  {
   "cell_type": "code",
   "execution_count": 71,
   "metadata": {},
   "outputs": [],
   "source": [
    "def getData(digits, Ntrain = 1697, seed = 1):\n",
    "    np.random.seed(seed)\n",
    "\n",
    "    # load data\n",
    "    digits = datasets.load_digits()\n",
    "    X = digits.data\n",
    "    y = np.array(digits.target, dtype = int)\n",
    "\n",
    "    # encode data\n",
    "    enc = OneHotEncoder()\n",
    "    y = enc.fit_transform(y.reshape(-1, 1))\n",
    "\n",
    "    # shuffle\n",
    "    X,y = shuffle(X,y)\n",
    "\n",
    "    # extract data\n",
    "    Ntest = 100\n",
    "    Xtrain = X[0:Ntrain,:]\n",
    "    ytrain = y[0:Ntrain,:]\n",
    "    Xtest = X[Ntrain:Ntrain+Ntest,:]\n",
    "    ytest = y[Ntrain:Ntrain+Ntest,:]\n",
    "\n",
    "    return Xtrain, ytrain, Xtest, ytest, enc"
   ]
  },
  {
   "cell_type": "code",
   "execution_count": 57,
   "metadata": {},
   "outputs": [],
   "source": [
    "kernel = 1.0 * RBF([1.0])\n",
    "gpr = GaussianProcessRegressor(kernel = kernel, random_state = seed).fit(Xtrain, ytrain.toarray())"
   ]
  },
  {
   "cell_type": "code",
   "execution_count": 68,
   "metadata": {},
   "outputs": [],
   "source": [
    "def getAccuracy(X, y, gpr, enc, datatype = \"Train\", printing = True):\n",
    "    yp = np.argmax(gpr.predict(X), axis = 1)\n",
    "    accuracy_rate = np.mean(np.equal(yp, enc.inverse_transform(y).reshape(-1))) * 100\n",
    "\n",
    "    if printing:\n",
    "        print(datatype, \"accuracy:\", accuracy_rate)\n",
    "\n",
    "    return accuracy_rate"
   ]
  },
  {
   "cell_type": "code",
   "execution_count": 60,
   "metadata": {},
   "outputs": [
    {
     "name": "stdout",
     "output_type": "stream",
     "text": [
      "Train accuracy: 94.63759575721862\n",
      "Test accuracy: 94.0\n"
     ]
    },
    {
     "data": {
      "text/plain": [
       "94.0"
      ]
     },
     "execution_count": 60,
     "metadata": {},
     "output_type": "execute_result"
    }
   ],
   "source": [
    "getAccuracy(Xtrain, ytrain, gpr, enc)\n",
    "getAccuracy(Xtest, ytest, gpr, enc, \"Test\")"
   ]
  },
  {
   "cell_type": "code",
   "execution_count": 72,
   "metadata": {},
   "outputs": [],
   "source": [
    "Xtrain, ytrain, Xtest, ytest, enc = getData(digits)"
   ]
  },
  {
   "cell_type": "code",
   "execution_count": 93,
   "metadata": {},
   "outputs": [
    {
     "name": "stdout",
     "output_type": "stream",
     "text": [
      "Constant kernel done\n",
      "[11.0, 11.0, 10.0, 11.0, 9.0, 5.0, 5.0] \n",
      "\n",
      "White kernel done\n",
      "[11.0, 9.0, 9.0, 9.0, 7.000000000000001, 20.0, 5.0] \n",
      "\n",
      "RBF kernel done\n",
      "[74.0, 86.0, 93.0, 95.0, 95.0, 98.0, 99.0] \n",
      "\n",
      "Matern kernel done\n",
      "[78.0, 83.0, 95.0, 98.0, 99.0, 98.0, 99.0] \n",
      "\n",
      "RationalQuadratic kernel done\n",
      "[62.0, 63.0, 71.0, 90.0, 96.0, 96.0, 95.0] \n",
      "\n",
      "DotProduct kernel done\n",
      "[67.0, 53.0, 78.0, 89.0, 91.0, 96.0, 93.0] \n",
      "\n"
     ]
    },
    {
     "data": {
      "image/png": "[encoded data removed]",
      "text/plain": [
       "<Figure size 432x288 with 1 Axes>"
      ]
     },
     "metadata": {
      "needs_background": "light"
     },
     "output_type": "display_data"
    }
   ],
   "source": [
    "from sklearn.gaussian_process.kernels import ConstantKernel, WhiteKernel, RBF, Matern, RationalQuadratic, ExpSineSquared, DotProduct\n",
    "\n",
    "kernels = [ConstantKernel(constant_value_bounds=\"fixed\"), \n",
    "            WhiteKernel(noise_level_bounds=\"fixed\"), \n",
    "            1.0 * RBF([1.0], length_scale_bounds=\"fixed\"), \n",
    "            Matern(length_scale = 100, length_scale_bounds=\"fixed\"), \n",
    "            RationalQuadratic(length_scale_bounds=\"fixed\", alpha_bounds=\"fixed\"), \n",
    "            DotProduct(sigma_0_bounds=\"fixed\") + WhiteKernel(noise_level_bounds=\"fixed\")]\n",
    "\n",
    "kernel_names = [\"Constant\", \"White\", \"RBF\", \"Matern\", \"RationalQuadratic\", \"DotProduct\"]\n",
    "\n",
    "data_sizes = [20, 50, 100, 500, 1000, 1500, 1697]\n",
    "\n",
    "for (i, kernel) in enumerate(kernels):\n",
    "    accuracies = []\n",
    "\n",
    "    for Ntrain in data_sizes:\n",
    "        Xtrain, ytrain, Xtest, ytest, enc = getData(digits, Ntrain=Ntrain)\n",
    "        gpr = GaussianProcessRegressor(kernel = kernel, optimizer='fmin_l_bfgs_b', random_state = seed).fit(Xtrain, ytrain.toarray())\n",
    "        accuracies.append(getAccuracy(Xtest, ytest, gpr, enc, printing = False))\n",
    "\n",
    "    plt.plot(data_sizes, accuracies, \"-o\", markersize = 4, label = kernel_names[i] + \" kernel\")\n",
    "\n",
    "    print(kernel_names[i] + \" kernel done\")\n",
    "    print(accuracies, \"\\n\")\n",
    "\n",
    "plt.xlabel(\"Number of samples in train data\")\n",
    "plt.ylabel(\"Accuracy\")\n",
    "plt.title(\"Accuracy plot\")\n",
    "plt.legend()\n",
    "plt.show()"
   ]
  },
  {
   "cell_type": "code",
   "execution_count": 109,
   "metadata": {},
   "outputs": [
    {
     "name": "stdout",
     "output_type": "stream",
     "text": [
      "Constant kernel done\n",
      "[11.0, 11.0, 10.0, 11.0, 9.0, 5.0, 5.0] \n",
      "\n",
      "White kernel done\n",
      "[11.0, 9.0, 9.0, 9.0, 7.000000000000001, 20.0, 5.0] \n",
      "\n",
      "RBF kernel done\n",
      "[70.0, 74.0, 91.0, 98.0, 98.0, 98.0, 100.0] \n",
      "\n",
      "Matern kernel done\n",
      "[77.0, 86.0, 93.0, 95.0, 95.0, 98.0, 99.0] \n",
      "\n",
      "RationalQuadratic kernel done\n",
      "[77.0, 87.0, 94.0, 97.0, 98.0, 99.0, 99.0] \n",
      "\n",
      "DotProduct kernel done\n",
      "[67.0, 53.0, 78.0, 89.0, 91.0, 96.0, 93.0] \n",
      "\n"
     ]
    },
    {
     "data": {
      "image/png": "[encoded data removed]",
      "text/plain": [
       "<Figure size 432x288 with 1 Axes>"
      ]
     },
     "metadata": {
      "needs_background": "light"
     },
     "output_type": "display_data"
    }
   ],
   "source": [
    "# optimized\n",
    "\n",
    "from sklearn.gaussian_process.kernels import ConstantKernel, WhiteKernel, RBF, Matern, RationalQuadratic, ExpSineSquared, DotProduct\n",
    "\n",
    "kernels = [ConstantKernel(constant_value_bounds=\"fixed\"), \n",
    "            WhiteKernel(1, noise_level_bounds=\"fixed\"), \n",
    "            1.0 * RBF([100], length_scale_bounds=\"fixed\"), \n",
    "            Matern(length_scale = 1, length_scale_bounds=\"fixed\"), \n",
    "            RationalQuadratic(length_scale = 10, length_scale_bounds=\"fixed\", alpha = 100, alpha_bounds=\"fixed\"), \n",
    "            DotProduct(1, sigma_0_bounds=\"fixed\") + WhiteKernel(1, noise_level_bounds=\"fixed\")]\n",
    "\n",
    "kernel_names = [\"Constant\", \"White\", \"RBF\", \"Matern\", \"RationalQuadratic\", \"DotProduct\"]\n",
    "\n",
    "data_sizes = [20, 50, 100, 500, 1000, 1500, 1697]\n",
    "\n",
    "for (i, kernel) in enumerate(kernels):\n",
    "    accuracies = []\n",
    "\n",
    "    for Ntrain in data_sizes:\n",
    "        Xtrain, ytrain, Xtest, ytest, enc = getData(digits, Ntrain=Ntrain)\n",
    "        gpr = GaussianProcessRegressor(kernel = kernel, optimizer='fmin_l_bfgs_b', random_state = seed).fit(Xtrain, ytrain.toarray())\n",
    "        accuracies.append(getAccuracy(Xtest, ytest, gpr, enc, printing = False))\n",
    "\n",
    "    plt.plot(data_sizes, accuracies, \"-o\", markersize = 4, label = kernel_names[i] + \" kernel\")\n",
    "\n",
    "    print(kernel_names[i] + \" kernel done\")\n",
    "    print(accuracies, \"\\n\")\n",
    "\n",
    "plt.xlabel(\"Number of samples in train data\")\n",
    "plt.ylabel(\"Accuracy\")\n",
    "plt.title(\"Accuracy plot\")\n",
    "plt.legend()\n",
    "plt.show()"
   ]
  },
  {
   "cell_type": "code",
   "execution_count": 105,
   "metadata": {},
   "outputs": [
    {
     "name": "stdout",
     "output_type": "stream",
     "text": [
      "Test accuracy: 93.0\n",
      "\t DotProduct(sigma_0=0.01) + WhiteKernel(noise_level=0.01)\n",
      "Test accuracy: 93.0\n",
      "\t DotProduct(sigma_0=0.01) + WhiteKernel(noise_level=0.1)\n",
      "Test accuracy: 93.0\n",
      "\t DotProduct(sigma_0=0.01) + WhiteKernel(noise_level=1)\n",
      "Test accuracy: 93.0\n",
      "\t DotProduct(sigma_0=0.01) + WhiteKernel(noise_level=2)\n",
      "Test accuracy: 93.0\n",
      "\t DotProduct(sigma_0=0.01) + WhiteKernel(noise_level=5)\n",
      "Test accuracy: 93.0\n",
      "\t DotProduct(sigma_0=0.01) + WhiteKernel(noise_level=10)\n",
      "Test accuracy: 93.0\n",
      "\t DotProduct(sigma_0=0.01) + WhiteKernel(noise_level=100)\n",
      "Test accuracy: 93.0\n",
      "\t DotProduct(sigma_0=0.1) + WhiteKernel(noise_level=0.01)\n",
      "Test accuracy: 93.0\n",
      "\t DotProduct(sigma_0=0.1) + WhiteKernel(noise_level=0.1)\n",
      "Test accuracy: 93.0\n",
      "\t DotProduct(sigma_0=0.1) + WhiteKernel(noise_level=1)\n",
      "Test accuracy: 93.0\n",
      "\t DotProduct(sigma_0=0.1) + WhiteKernel(noise_level=2)\n",
      "Test accuracy: 93.0\n",
      "\t DotProduct(sigma_0=0.1) + WhiteKernel(noise_level=5)\n",
      "Test accuracy: 93.0\n",
      "\t DotProduct(sigma_0=0.1) + WhiteKernel(noise_level=10)\n",
      "Test accuracy: 93.0\n",
      "\t DotProduct(sigma_0=0.1) + WhiteKernel(noise_level=100)\n",
      "Test accuracy: 93.0\n",
      "\t DotProduct(sigma_0=1) + WhiteKernel(noise_level=0.01)\n",
      "Test accuracy: 93.0\n",
      "\t DotProduct(sigma_0=1) + WhiteKernel(noise_level=0.1)\n",
      "Test accuracy: 93.0\n",
      "\t DotProduct(sigma_0=1) + WhiteKernel(noise_level=1)\n",
      "Test accuracy: 93.0\n",
      "\t DotProduct(sigma_0=1) + WhiteKernel(noise_level=2)\n",
      "Test accuracy: 93.0\n",
      "\t DotProduct(sigma_0=1) + WhiteKernel(noise_level=5)\n",
      "Test accuracy: 93.0\n",
      "\t DotProduct(sigma_0=1) + WhiteKernel(noise_level=10)\n",
      "Test accuracy: 93.0\n",
      "\t DotProduct(sigma_0=1) + WhiteKernel(noise_level=100)\n",
      "Test accuracy: 93.0\n",
      "\t DotProduct(sigma_0=2) + WhiteKernel(noise_level=0.01)\n",
      "Test accuracy: 93.0\n",
      "\t DotProduct(sigma_0=2) + WhiteKernel(noise_level=0.1)\n",
      "Test accuracy: 93.0\n",
      "\t DotProduct(sigma_0=2) + WhiteKernel(noise_level=1)\n",
      "Test accuracy: 93.0\n",
      "\t DotProduct(sigma_0=2) + WhiteKernel(noise_level=2)\n",
      "Test accuracy: 93.0\n",
      "\t DotProduct(sigma_0=2) + WhiteKernel(noise_level=5)\n",
      "Test accuracy: 93.0\n",
      "\t DotProduct(sigma_0=2) + WhiteKernel(noise_level=10)\n",
      "Test accuracy: 93.0\n",
      "\t DotProduct(sigma_0=2) + WhiteKernel(noise_level=100)\n",
      "Test accuracy: 93.0\n",
      "\t DotProduct(sigma_0=5) + WhiteKernel(noise_level=0.01)\n",
      "Test accuracy: 93.0\n",
      "\t DotProduct(sigma_0=5) + WhiteKernel(noise_level=0.1)\n",
      "Test accuracy: 93.0\n",
      "\t DotProduct(sigma_0=5) + WhiteKernel(noise_level=1)\n",
      "Test accuracy: 93.0\n",
      "\t DotProduct(sigma_0=5) + WhiteKernel(noise_level=2)\n",
      "Test accuracy: 93.0\n",
      "\t DotProduct(sigma_0=5) + WhiteKernel(noise_level=5)\n",
      "Test accuracy: 93.0\n",
      "\t DotProduct(sigma_0=5) + WhiteKernel(noise_level=10)\n",
      "Test accuracy: 93.0\n",
      "\t DotProduct(sigma_0=5) + WhiteKernel(noise_level=100)\n",
      "Test accuracy: 93.0\n",
      "\t DotProduct(sigma_0=10) + WhiteKernel(noise_level=0.01)\n",
      "Test accuracy: 93.0\n",
      "\t DotProduct(sigma_0=10) + WhiteKernel(noise_level=0.1)\n",
      "Test accuracy: 93.0\n",
      "\t DotProduct(sigma_0=10) + WhiteKernel(noise_level=1)\n",
      "Test accuracy: 93.0\n",
      "\t DotProduct(sigma_0=10) + WhiteKernel(noise_level=2)\n",
      "Test accuracy: 93.0\n",
      "\t DotProduct(sigma_0=10) + WhiteKernel(noise_level=5)\n",
      "Test accuracy: 93.0\n",
      "\t DotProduct(sigma_0=10) + WhiteKernel(noise_level=10)\n",
      "Test accuracy: 93.0\n",
      "\t DotProduct(sigma_0=10) + WhiteKernel(noise_level=100)\n",
      "Test accuracy: 93.0\n",
      "\t DotProduct(sigma_0=100) + WhiteKernel(noise_level=0.01)\n",
      "Test accuracy: 93.0\n",
      "\t DotProduct(sigma_0=100) + WhiteKernel(noise_level=0.1)\n",
      "Test accuracy: 93.0\n",
      "\t DotProduct(sigma_0=100) + WhiteKernel(noise_level=1)\n",
      "Test accuracy: 93.0\n",
      "\t DotProduct(sigma_0=100) + WhiteKernel(noise_level=2)\n",
      "Test accuracy: 93.0\n",
      "\t DotProduct(sigma_0=100) + WhiteKernel(noise_level=5)\n",
      "Test accuracy: 93.0\n",
      "\t DotProduct(sigma_0=100) + WhiteKernel(noise_level=10)\n",
      "Test accuracy: 93.0\n",
      "\t DotProduct(sigma_0=100) + WhiteKernel(noise_level=100)\n",
      "[93.0, 93.0, 93.0, 93.0, 93.0, 93.0, 93.0, 93.0, 93.0, 93.0, 93.0, 93.0, 93.0, 93.0, 93.0, 93.0, 93.0, 93.0, 93.0, 93.0, 93.0, 93.0, 93.0, 93.0, 93.0, 93.0, 93.0, 93.0, 93.0, 93.0, 93.0, 93.0, 93.0, 93.0, 93.0, 93.0, 93.0, 93.0, 93.0, 93.0, 93.0, 93.0, 93.0, 93.0, 93.0, 93.0, 93.0, 93.0, 93.0]\n"
     ]
    },
    {
     "data": {
      "image/png": "[encoded data removed]",
      "text/plain": [
       "<Figure size 432x288 with 1 Axes>"
      ]
     },
     "metadata": {
      "needs_background": "light"
     },
     "output_type": "display_data"
    }
   ],
   "source": [
    "from sklearn.gaussian_process.kernels import ConstantKernel, WhiteKernel, RBF, Matern, RationalQuadratic, ExpSineSquared, DotProduct\n",
    "\n",
    "# kernels = [ConstantKernel(x) for x in [0.01, 0.1, 1, 2, 5, 10, 100]] # theta = 5\n",
    "# kernels = [WhiteKernel(x, noise_level_bounds=\"fixed\") for x in [0.01, 0.1, 1, 2, 5, 10, 100]] # theta = godtycklig\n",
    "# kernels = [1.0 * RBF([x], length_scale_bounds=\"fixed\") for x in [0.01, 0.1, 1, 2, 5, 10, 100]] # theta = 100\n",
    "# kernels = [Matern(length_scale = x, length_scale_bounds=\"fixed\", nu = y) for x in [0.01, 0.1, 1, 2, 5, 10, 100] for y in [0.5, 1.5, 2.5, np.inf]] # l >= 0.1, nu godtycklig\n",
    "# kernels = [RationalQuadratic(length_scale = x, length_scale_bounds=\"fixed\", alpha = y, alpha_bounds=\"fixed\") for x in [0.01, 0.1, 1, 2, 5, 10, 100] for y in [0.01, 0.1, 1, 2, 5, 10, 100]] # 10, 100\n",
    "kernels = [DotProduct(x, sigma_0_bounds=\"fixed\") + WhiteKernel(y, noise_level_bounds=\"fixed\") for x in [0.01, 0.1, 1, 2, 5, 10, 100] for y in [0.01, 0.1, 1, 2, 5, 10, 100]] # godtycklig\n",
    "\n",
    "Ntrain = 1697\n",
    "\n",
    "accuracies = []\n",
    "\n",
    "for kernel in kernels:\n",
    "    Xtrain, ytrain, Xtest, ytest, enc = getData(digits, Ntrain=Ntrain)\n",
    "    gpr = GaussianProcessRegressor(kernel = kernel, optimizer='fmin_l_bfgs_b', random_state = seed).fit(Xtrain, ytrain.toarray())\n",
    "    accuracies.append(getAccuracy(Xtest, ytest, gpr, enc, \"Test\", printing = True))\n",
    "    print(\"\\t\", gpr.kernel)\n",
    "\n",
    "plt.plot(accuracies, \"-o\", markersize = 4, label = \"Kernel\")\n",
    "\n",
    "print(accuracies)\n",
    "\n",
    "plt.xlabel(\"Number of samples in train data\")\n",
    "plt.ylabel(\"Accuracy\")\n",
    "plt.title(\"Accuracy plot\")\n",
    "plt.legend()\n",
    "plt.show()"
   ]
  },
  {
   "cell_type": "code",
   "execution_count": 59,
   "metadata": {},
   "outputs": [],
   "source": [
    "from sklearn.gaussian_process.kernels import DotProduct, WhiteKernel\n",
    "kernel = DotProduct() + WhiteKernel()\n",
    "gpr = GaussianProcessRegressor(kernel = kernel, random_state = seed).fit(Xtrain, ytrain.toarray())"
   ]
  }
 ],
 "metadata": {
  "interpreter": {
   "hash": "9386f0cef3f7e847ba4ef8cad0c29e3ff984e6eb5154ed6dc75c3de9b359a7f7"
  },
  "kernelspec": {
   "display_name": "Python 3.9.6 64-bit",
   "language": "python",
   "name": "python3"
  },
  "language_info": {
   "codemirror_mode": {
    "name": "ipython",
    "version": 3
   },
   "file_extension": ".py",
   "mimetype": "text/x-python",
   "name": "python",
   "nbconvert_exporter": "python",
   "pygments_lexer": "ipython3",
   "version": "3.9.6"
  },
  "orig_nbformat": 4
 },
 "nbformat": 4,
 "nbformat_minor": 2
}
